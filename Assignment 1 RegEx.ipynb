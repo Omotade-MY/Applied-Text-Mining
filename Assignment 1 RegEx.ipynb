{
 "cells": [
  {
   "cell_type": "markdown",
   "metadata": {},
   "source": [
    "---\n",
    "\n",
    "_You are currently looking at **version 1.1** of this notebook. To download notebooks and datafiles, as well as get help on Jupyter notebooks in the Coursera platform, visit the [Jupyter Notebook FAQ](https://www.coursera.org/learn/python-text-mining/resources/d9pwm) course resource._\n",
    "\n",
    "---"
   ]
  },
  {
   "cell_type": "markdown",
   "metadata": {},
   "source": [
    "# Assignment 1\n",
    "\n",
    "In this assignment, you'll be working with messy medical data and using regex to extract relevant infromation from the data. \n",
    "\n",
    "Each line of the `dates.txt` file corresponds to a medical note. Each note has a date that needs to be extracted, but each date is encoded in one of many formats.\n",
    "\n",
    "The goal of this assignment is to correctly identify all of the different date variants encoded in this dataset and to properly normalize and sort the dates. \n",
    "\n",
    "Here is a list of some of the variants you might encounter in this dataset:\n",
    "* 04/20/2009; 04/20/09; 4/20/09; 4/3/09\n",
    "* Mar-20-2009; Mar 20, 2009; March 20, 2009;  Mar. 20, 2009; Mar 20 2009;\n",
    "* 20 Mar 2009; 20 March 2009; 20 Mar. 2009; 20 March, 2009\n",
    "* Mar 20th, 2009; Mar 21st, 2009; Mar 22nd, 2009\n",
    "* Feb 2009; Sep 2009; Oct 2010\n",
    "* 6/2008; 12/2009\n",
    "* 2009; 2010\n",
    "\n",
    "Once you have extracted these date patterns from the text, the next step is to sort them in ascending chronological order accoring to the following rules:\n",
    "* Assume all dates in xx/xx/xx format are mm/dd/yy\n",
    "* Assume all dates where year is encoded in only two digits are years from the 1900's (e.g. 1/5/89 is January 5th, 1989)\n",
    "* If the day is missing (e.g. 9/2009), assume it is the first day of the month (e.g. September 1, 2009).\n",
    "* If the month is missing (e.g. 2010), assume it is the first of January of that year (e.g. January 1, 2010).\n",
    "* Watch out for potential typos as this is a raw, real-life derived dataset.\n",
    "\n",
    "With these rules in mind, find the correct date in each note and return a pandas Series in chronological order of the original Series' indices.\n",
    "\n",
    "For example if the original series was this:\n",
    "\n",
    "    0    1999\n",
    "    1    2010\n",
    "    2    1978\n",
    "    3    2015\n",
    "    4    1985\n",
    "\n",
    "Your function should return this:\n",
    "\n",
    "    0    2\n",
    "    1    4\n",
    "    2    0\n",
    "    3    1\n",
    "    4    3\n",
    "\n",
    "Your score will be calculated using [Kendall's tau](https://en.wikipedia.org/wiki/Kendall_rank_correlation_coefficient), a correlation measure for ordinal data.\n",
    "\n",
    "*This function should return a Series of length 500 and dtype int.*"
   ]
  },
  {
   "cell_type": "code",
   "execution_count": 3,
   "metadata": {},
   "outputs": [
    {
     "data": {
      "text/plain": [
       "0         03/25/93 Total time of visit (in minutes):\\n\n",
       "1                       6/18/85 Primary Care Doctor:\\n\n",
       "2    sshe plans to move as of 7/8/71 In-Home Servic...\n",
       "3                7 on 9/27/75 Audit C Score Current:\\n\n",
       "4    2/6/96 sleep studyPain Treatment Pain Level (N...\n",
       "5                    .Per 7/06/79 Movement D/O note:\\n\n",
       "6    4, 5/18/78 Patient's thoughts about current su...\n",
       "7    10/24/89 CPT Code: 90801 - Psychiatric Diagnos...\n",
       "8                         3/7/86 SOS-10 Total Score:\\n\n",
       "9             (4/10/71)Score-1Audit C Score Current:\\n\n",
       "dtype: object"
      ]
     },
     "execution_count": 3,
     "metadata": {},
     "output_type": "execute_result"
    }
   ],
   "source": [
    "import pandas as pd\n",
    "\n",
    "doc = []\n",
    "with open('dates.txt') as file:\n",
    "    for line in file:\n",
    "        doc.append(line)\n",
    "\n",
    "df = pd.Series(doc)\n",
    "df.head(10)"
   ]
  },
  {
   "cell_type": "code",
   "execution_count": 7,
   "metadata": {},
   "outputs": [],
   "source": [
    "df = pd.DataFrame(df, columns=['lines'])\n"
   ]
  },
  {
   "cell_type": "code",
   "execution_count": 8,
   "metadata": {},
   "outputs": [],
   "source": [
    "#\n",
    "import re\n",
    "def extract_date(line):\n",
    "    \"\"\"Returns an extracted date from a line of text text\"\"\"\n",
    "    \n",
    "   \n",
    "    pattern_1 = '((\\d{1,2}\\s?)?((?:Jan|Feb|Mar|Apr|May|Jun|Jul|Aug|Sep|Oct|Nov|Dec)[a-z]*[\\.\\,]?)) \\d{4,4}'\n",
    "    pattern_2 = '(?:Jan|Feb|Mar|Apr|May|Jun|Jul|Aug|Sep|Oct|Nov|Dec)[a-z]*[\\.,]?[\\s-](\\d{1,2}[th|st|rd|nd]?,?[\\s-])?\\d{4,4}'\n",
    "    pattern_3 = '((\\d{,2}[/-])(\\d{,2}[/-])\\d{2,4})'\n",
    "    pattern_4 = '((\\d{,2}/)\\d{2,4})|\\d{4,4}'\n",
    "    \n",
    "    patterns = [pattern_1,pattern_2,pattern_3,pattern_4]\n",
    "    for pattern in patterns:\n",
    "        match = re.search(pattern, line)\n",
    "        if match:\n",
    "            return match.group()\n"
   ]
  },
  {
   "cell_type": "code",
   "execution_count": 9,
   "metadata": {},
   "outputs": [],
   "source": [
    "df['Extracted_date'] = df['lines'].apply(extract_date)"
   ]
  },
  {
   "cell_type": "code",
   "execution_count": 10,
   "metadata": {},
   "outputs": [],
   "source": [
    "def separate_date(date):\n",
    "    \"\"\" Returns a string of date, that can be coverted to a timeStammp,\n",
    "        from extracted date from a text \n",
    "    \"\"\"\n",
    "    \n",
    "    \n",
    "    month_list_2 = ['Janaury','February','March','April','May','June',\n",
    "                    'July','August','September','October','November','December']\n",
    "    \n",
    "    month_list_1 = ['Jan','Feb','Mar','Apr','May','Jun','Jul','Aug','Sep','Oct','Nov','Dec']\n",
    "                    \n",
    "    months_1 = {month : val+1 for val, month in enumerate(month_list_1)}\n",
    "    \n",
    "    months_2 = {month : val+1 for val, month in enumerate(month_list_2)}\n",
    "    \n",
    "    dates = re.findall(r'\\d{1,4}',date)\n",
    "    if len(dates) == 3:\n",
    "        \n",
    "        #if re.search(r'\\d{1,2}-\\d{1,2}-\\d{2,4}', date):\n",
    "         #   day, month, year = dates[0], dates[1], dates[2]  \n",
    "        \n",
    "        day, month, year = dates[1], dates[0], dates[2]\n",
    "        \n",
    "    elif len(dates) == 2:\n",
    "        found = re.search(r'(?:Jan|Feb|Mar|Apr|May|Jun|Jul|Aug|Sep|Oct|Nov|Dec)[a-z]*',date)\n",
    "        if found:\n",
    "            day, month, year = dates[0], found.group(), dates[1]\n",
    "        else:\n",
    "            day, month, year = '01', dates[0], dates[1]\n",
    "            \n",
    "    elif len(dates) == 1:\n",
    "        found = re.search(r'(?:Jan|Feb|Mar|Apr|May|Jun|Jul|Aug|Sep|Oct|Nov|Dec)[a-z]*',date)\n",
    "        if found:\n",
    "            day, month, year = '01', found.group(), dates[0]\n",
    "        else:\n",
    "            day, month, year = '01', 'Jan', dates[0]\n",
    "        \n",
    "        \n",
    "    # Checking and correcting year format\n",
    "    \n",
    "    if len(year) == 2:\n",
    "        tens = year\n",
    "        year = '19'+tens\n",
    "        \n",
    "    #checking and uniforming month label\n",
    "    \n",
    "    if month.isdigit() == False:\n",
    "        try:\n",
    "            month = months_1[month]\n",
    "        \n",
    "        except KeyError:\n",
    "            month = months_1[month[:3]]\n",
    "    elif len(month) > 2:\n",
    "        month = month.lstrip('0')\n",
    "    # Filling in missing months and day\n",
    "    time = '-'.join([str(day),str(month),str(year)])\n",
    "    return time"
   ]
  },
  {
   "cell_type": "code",
   "execution_count": 11,
   "metadata": {},
   "outputs": [],
   "source": [
    "df['Time'] = df['Extracted_date'].apply(separate_date)"
   ]
  },
  {
   "cell_type": "code",
   "execution_count": 12,
   "metadata": {
    "scrolled": false
   },
   "outputs": [],
   "source": [
    "df['Time'] = pd.to_datetime(df['Time'], dayfirst = True, format='%d-%m-%Y')"
   ]
  },
  {
   "cell_type": "code",
   "execution_count": 189,
   "metadata": {},
   "outputs": [],
   "source": [
    "#df.head(20)"
   ]
  },
  {
   "cell_type": "code",
   "execution_count": 190,
   "metadata": {},
   "outputs": [],
   "source": [
    "df['Day'], df['Month'], df['Year'] = df['Time'].apply(lambda time: time.day), df['Time'].apply(lambda time: time.month), df['Time'].apply(lambda time: time.year)"
   ]
  },
  {
   "cell_type": "code",
   "execution_count": 191,
   "metadata": {},
   "outputs": [],
   "source": [
    "df2 = df.copy()"
   ]
  },
  {
   "cell_type": "code",
   "execution_count": 192,
   "metadata": {},
   "outputs": [],
   "source": [
    "def date_sorter():\n",
    "    \n",
    "    index = df.index\n",
    "    sorted_df = df.sort_values('Time')\n",
    "    index = sorted_df.index\n",
    "    \n",
    "    series = pd.Series(index)\n",
    "    \n",
    "    return series"
   ]
  },
  {
   "cell_type": "code",
   "execution_count": 196,
   "metadata": {},
   "outputs": [],
   "source": [
    "date_sorter()"
   ]
  }
 ],
 "metadata": {
  "coursera": {
   "course_slug": "python-text-mining",
   "graded_item_id": "LvcWI",
   "launcher_item_id": "krne9",
   "part_id": "Mkp1I"
  },
  "kernelspec": {
   "display_name": "Python 3",
   "language": "python",
   "name": "python3"
  },
  "language_info": {
   "codemirror_mode": {
    "name": "ipython",
    "version": 3
   },
   "file_extension": ".py",
   "mimetype": "text/x-python",
   "name": "python",
   "nbconvert_exporter": "python",
   "pygments_lexer": "ipython3",
   "version": "3.8.5"
  }
 },
 "nbformat": 4,
 "nbformat_minor": 2
}
